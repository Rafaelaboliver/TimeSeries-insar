{
 "cells": [
  {
   "cell_type": "code",
   "execution_count": 1,
   "id": "9a8b212f",
   "metadata": {},
   "outputs": [],
   "source": [
    "from sklearn.metrics import mean_squared_error, r2_score, mean_absolute_error\n",
    "from sklearn.linear_model import LinearRegression\n",
    "from scipy.ndimage import gaussian_filter1d\n",
    "from pandas import DataFrame, Series\n",
    "import matplotlib.pylab as plt\n",
    "import seaborn as sns \n",
    "import pandas as pd\n",
    "import numpy as np\n",
    "import datetime\n",
    "import pyproj \n",
    "import random\n",
    "import os\n",
    "import io\n",
    "\n",
    "%matplotlib inline\n",
    "np.set_printoptions(precision=3 , suppress= True)"
   ]
  },
  {
   "cell_type": "code",
   "execution_count": 2,
   "id": "b542ff77",
   "metadata": {},
   "outputs": [],
   "source": [
    "#initial parameters - path\n",
    "folder_path = '/home/rafaela/internship/time_series/TimeSeries-insar/egm_files'\n",
    "file_path = os.path.join(folder_path, 'EGMS_L3_E44N25_100km_E.csv')\n",
    "teste = pd.read_csv(file_path)\n",
    "\n",
    "teste_reduced = teste.iloc[:,list(range(1, 4)) + list(range(11, 375))]\n",
    "\n",
    "#define the ETRS89-LAEA and the UTM projection\n",
    "etrs89_laea = pyproj.CRS(\"EPSG:3035\")\n",
    "wgs84 = pyproj.CRS(\"EPSG:4326\")\n",
    "utm_32 = pyproj.CRS(\"EPSG:23032\")\n",
    "\n",
    "teste_new = teste_reduced.copy()\n",
    "\n",
    "transformer = pyproj.Transformer.from_crs(etrs89_laea, wgs84)\n",
    "teste_new[\"latitude\"], teste_new[\"longitude\"] = transformer.transform(teste_new[\"northing\"].to_numpy(), teste_new[\"easting\"].to_numpy())"
   ]
  },
  {
   "cell_type": "code",
   "execution_count": null,
   "id": "36db8597",
   "metadata": {},
   "outputs": [],
   "source": [
    "def import_carbonate_stations(file_name, pixel):\n",
    "    file = pd.read_csv(f'/home/rafaela/internship/time_series/TimeSeries-insar/egm_files/insar_ts_plots/east/points_after_avg_rolling_mean/{file_name}/avg1_{file_name}_east_{pixel}pixels.csv', index_col=0)\n",
    "    return file\n",
    "\n",
    "carbonate_area_dict = {}\n",
    "carbonate_list = ['canv', 'mgrd', 'sper', 'pord']\n",
    "pixel_list = [368, 373, 368, 394]\n",
    "\n",
    "for file_name, pixel in zip (carbonate_list, pixel_list):\n",
    "    \n",
    "    file = import_carbonate_stations(file_name, pixel)\n",
    "    carbonate_area_dict[file_name] = file\n"
   ]
  },
  {
   "cell_type": "code",
   "execution_count": null,
   "id": "8d9e204c",
   "metadata": {},
   "outputs": [],
   "source": [
    "def import_noncarbonate_stations(file_name, pixel):\n",
    "    file = pd.read_csv(f'/home/rafaela/internship/time_series/TimeSeries-insar/egm_files/insar_ts_plots/east/points_after_avg_rolling_mean/{file_name}/avg1_{file_name}_east_{pixel}pixels.csv', index_col=0)\n",
    "    return file\n",
    "\n",
    "noncarbonate_area_dict = {}\n",
    "noncarbonate_list = ['mt01', 'mt06', 'trvs', 'suse']\n",
    "pixel_list = [365, 389, 403, 353]\n",
    "\n",
    "for file_name, pixel in zip (noncarbonate_list, pixel_list):\n",
    "    \n",
    "    file = import_noncarbonate_stations(file_name, pixel)\n",
    "    noncarbonate_area_dict[file_name] = file"
   ]
  }
 ],
 "metadata": {
  "kernelspec": {
   "display_name": "Python 3 (ipykernel)",
   "language": "python",
   "name": "python3"
  },
  "language_info": {
   "codemirror_mode": {
    "name": "ipython",
    "version": 3
   },
   "file_extension": ".py",
   "mimetype": "text/x-python",
   "name": "python",
   "nbconvert_exporter": "python",
   "pygments_lexer": "ipython3",
   "version": "3.11.5"
  }
 },
 "nbformat": 4,
 "nbformat_minor": 5
}
